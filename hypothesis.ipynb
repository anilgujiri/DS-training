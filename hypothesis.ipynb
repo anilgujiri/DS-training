{
 "cells": [
  {
   "cell_type": "code",
   "execution_count": 10,
   "id": "cd1319b4",
   "metadata": {},
   "outputs": [],
   "source": [
    "from scipy.stats import chi2_contingency\n",
    "import pandas as pd\n",
    "import scipy.stats\n",
    "from scipy.stats import chi2"
   ]
  },
  {
   "cell_type": "code",
   "execution_count": 14,
   "id": "c7092fa7",
   "metadata": {},
   "outputs": [
    {
     "name": "stdout",
     "output_type": "stream",
     "text": [
      "p value is 0.5407256555607454\n",
      "Independent (H0 holds true)\n"
     ]
    }
   ],
   "source": [
    "  \n",
    "# defining the table\n",
    "data = [[207, 282, 241], [230, 272, 250]]\n",
    "stat, p, dof, expected = chi2_contingency(data)\n",
    "  \n",
    "# interpret p-value\n",
    "alpha = 0.05\n",
    "print(\"p value is \" + str(p))\n",
    "if p <= alpha:\n",
    "    print('Dependent (reject H0)')\n",
    "else:\n",
    "    print('Independent (H0 holds true)')"
   ]
  },
  {
   "cell_type": "code",
   "execution_count": 18,
   "id": "57c25f9d",
   "metadata": {},
   "outputs": [
    {
     "name": "stdout",
     "output_type": "stream",
     "text": [
      "contingency_table :\n",
      " incident_state            NC   NY  OH  PA   SC  VA  WV\n",
      "incident_type                                         \n",
      "Multi-vehicle Collision   43  119  12  15  103  41  86\n",
      "Parked Car                10   16   1   4   22  11  20\n",
      "Single Vehicle Collision  43  112   7   9  105  44  83\n",
      "Vehicle Theft             14   15   3   2   18  14  28\n"
     ]
    }
   ],
   "source": [
    "data = pd.read_csv(r\"C:\\Anil\\Projects\\InsuranceFraudDetection-master\\code\\fraudDetection\\data\\insuranceFraud.csv\")\n",
    "ct_table_ind=pd.crosstab(data[\"incident_type\"],data['incident_state'])\n",
    "\n",
    "print('contingency_table :\\n',ct_table_ind)\n"
   ]
  },
  {
   "cell_type": "code",
   "execution_count": 11,
   "id": "2d7c6c6e",
   "metadata": {},
   "outputs": [
    {
     "name": "stdout",
     "output_type": "stream",
     "text": [
      "p value is 0.3509214629577943\n",
      "Independent (H0 holds true)\n"
     ]
    }
   ],
   "source": [
    "stat, p, dof, expected = scipy.stats.chi2_contingency(ct_table_ind)\n",
    "\n",
    "# interpret p-value\n",
    "alpha = 0.05\n",
    "print(\"p value is \" + str(p))\n",
    "if p <= alpha:\n",
    "    print('Dependent (reject H0)')\n",
    "else:\n",
    "    print('Independent (H0 holds true)')"
   ]
  },
  {
   "cell_type": "code",
   "execution_count": 22,
   "id": "6db659ca",
   "metadata": {},
   "outputs": [],
   "source": [
    "import scipy.stats as stats"
   ]
  },
  {
   "cell_type": "code",
   "execution_count": 23,
   "id": "2dc8532b",
   "metadata": {},
   "outputs": [
    {
     "name": "stdout",
     "output_type": "stream",
     "text": [
      "0.8296777313731424 0.406919222409831\n"
     ]
    }
   ],
   "source": [
    "t_statistic, p_value = stats.ttest_1samp(a=data['policy_annual_premium'], popmean=1250)\n",
    "print(t_statistic , p_value)"
   ]
  },
  {
   "cell_type": "code",
   "execution_count": 21,
   "id": "04f68af2",
   "metadata": {},
   "outputs": [
    {
     "data": {
      "text/plain": [
       "1256.4061500000018"
      ]
     },
     "execution_count": 21,
     "metadata": {},
     "output_type": "execute_result"
    }
   ],
   "source": [
    "data['policy_annual_premium'].mean()"
   ]
  },
  {
   "cell_type": "code",
   "execution_count": null,
   "id": "72748168",
   "metadata": {},
   "outputs": [],
   "source": []
  }
 ],
 "metadata": {
  "kernelspec": {
   "display_name": "Python 3 (ipykernel)",
   "language": "python",
   "name": "python3"
  },
  "language_info": {
   "codemirror_mode": {
    "name": "ipython",
    "version": 3
   },
   "file_extension": ".py",
   "mimetype": "text/x-python",
   "name": "python",
   "nbconvert_exporter": "python",
   "pygments_lexer": "ipython3",
   "version": "3.9.7"
  }
 },
 "nbformat": 4,
 "nbformat_minor": 5
}
