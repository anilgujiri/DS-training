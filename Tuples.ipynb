{
 "cells": [
  {
   "cell_type": "markdown",
   "id": "8d9fdd6c",
   "metadata": {},
   "source": [
    "# Tuples"
   ]
  },
  {
   "cell_type": "code",
   "execution_count": 5,
   "id": "d3e82581",
   "metadata": {},
   "outputs": [],
   "source": [
    "t = (1,[1,2])"
   ]
  },
  {
   "cell_type": "code",
   "execution_count": 7,
   "id": "5e61b718",
   "metadata": {},
   "outputs": [],
   "source": [
    "t = (1,2,3,4,5,1.5,\"Anil\")"
   ]
  },
  {
   "cell_type": "code",
   "execution_count": 7,
   "id": "ba5831e1",
   "metadata": {},
   "outputs": [],
   "source": [
    "t[1].append(3)"
   ]
  },
  {
   "cell_type": "code",
   "execution_count": 8,
   "id": "fb73b571",
   "metadata": {},
   "outputs": [
    {
     "data": {
      "text/plain": [
       "(1, [1, 2, 3])"
      ]
     },
     "execution_count": 8,
     "metadata": {},
     "output_type": "execute_result"
    }
   ],
   "source": [
    "t=()"
   ]
  },
  {
   "cell_type": "code",
   "execution_count": 9,
   "id": "0cd0a8d9",
   "metadata": {},
   "outputs": [
    {
     "data": {
      "text/plain": [
       "3"
      ]
     },
     "execution_count": 9,
     "metadata": {},
     "output_type": "execute_result"
    }
   ],
   "source": [
    "t[2]"
   ]
  },
  {
   "cell_type": "markdown",
   "id": "200987b6",
   "metadata": {},
   "source": [
    "# Edge/Boundary case between tuple and String"
   ]
  },
  {
   "cell_type": "code",
   "execution_count": 15,
   "id": "cd16a1cb",
   "metadata": {},
   "outputs": [],
   "source": [
    "t = (\"Anil\")"
   ]
  },
  {
   "cell_type": "code",
   "execution_count": 16,
   "id": "9409ac94",
   "metadata": {},
   "outputs": [
    {
     "data": {
      "text/plain": [
       "str"
      ]
     },
     "execution_count": 16,
     "metadata": {},
     "output_type": "execute_result"
    }
   ],
   "source": [
    "type(t)"
   ]
  },
  {
   "cell_type": "code",
   "execution_count": 18,
   "id": "ae4108d2",
   "metadata": {},
   "outputs": [],
   "source": [
    "t = (\"Anil\",)"
   ]
  },
  {
   "cell_type": "code",
   "execution_count": 19,
   "id": "a4c81379",
   "metadata": {},
   "outputs": [
    {
     "data": {
      "text/plain": [
       "tuple"
      ]
     },
     "execution_count": 19,
     "metadata": {},
     "output_type": "execute_result"
    }
   ],
   "source": [
    "type(t)"
   ]
  },
  {
   "cell_type": "markdown",
   "id": "8f19854c",
   "metadata": {},
   "source": [
    "# Assessing lists in tuples"
   ]
  },
  {
   "cell_type": "code",
   "execution_count": 35,
   "id": "6171bb20",
   "metadata": {},
   "outputs": [],
   "source": [
    "t = (1,2,3,4,[12,34,5,6,78,89],(1,2))"
   ]
  },
  {
   "cell_type": "code",
   "execution_count": 32,
   "id": "4e489a9f",
   "metadata": {},
   "outputs": [],
   "source": [
    "t[4][1] = 0"
   ]
  },
  {
   "cell_type": "code",
   "execution_count": 33,
   "id": "18f4aa7f",
   "metadata": {},
   "outputs": [
    {
     "data": {
      "text/plain": [
       "(1, 2, 3, 4, [12, 0, 5, 6, 78, 89])"
      ]
     },
     "execution_count": 33,
     "metadata": {},
     "output_type": "execute_result"
    }
   ],
   "source": [
    "t"
   ]
  },
  {
   "cell_type": "code",
   "execution_count": 36,
   "id": "18f2a4a4",
   "metadata": {},
   "outputs": [
    {
     "data": {
      "text/plain": [
       "(1, 2)"
      ]
     },
     "execution_count": 36,
     "metadata": {},
     "output_type": "execute_result"
    }
   ],
   "source": [
    "t[5]"
   ]
  },
  {
   "cell_type": "code",
   "execution_count": 38,
   "id": "ecff189a",
   "metadata": {},
   "outputs": [],
   "source": [
    "#add a element.Delete an element not possible in tuple. We can delete entire tuple"
   ]
  },
  {
   "cell_type": "code",
   "execution_count": 39,
   "id": "c3908aa6",
   "metadata": {},
   "outputs": [],
   "source": [
    "d =(1,2,3,4,5)"
   ]
  },
  {
   "cell_type": "code",
   "execution_count": 40,
   "id": "1ac2e91e",
   "metadata": {},
   "outputs": [],
   "source": [
    "del d"
   ]
  },
  {
   "cell_type": "code",
   "execution_count": 41,
   "id": "cc1ee7c6",
   "metadata": {},
   "outputs": [
    {
     "ename": "NameError",
     "evalue": "name 'd' is not defined",
     "output_type": "error",
     "traceback": [
      "\u001b[1;31m---------------------------------------------------------------------------\u001b[0m",
      "\u001b[1;31mNameError\u001b[0m                                 Traceback (most recent call last)",
      "\u001b[1;32mC:\\Users\\AN2025~1\\AppData\\Local\\Temp/ipykernel_28664/3161387801.py\u001b[0m in \u001b[0;36m<module>\u001b[1;34m\u001b[0m\n\u001b[1;32m----> 1\u001b[1;33m \u001b[0md\u001b[0m\u001b[1;33m\u001b[0m\u001b[1;33m\u001b[0m\u001b[0m\n\u001b[0m",
      "\u001b[1;31mNameError\u001b[0m: name 'd' is not defined"
     ]
    }
   ],
   "source": [
    "d"
   ]
  },
  {
   "cell_type": "markdown",
   "id": "f8323d5f",
   "metadata": {},
   "source": [
    "# Concatenate two tuples"
   ]
  },
  {
   "cell_type": "code",
   "execution_count": 45,
   "id": "c1117dea",
   "metadata": {},
   "outputs": [],
   "source": [
    "t = (1,2,3) + (4,5,6)"
   ]
  },
  {
   "cell_type": "code",
   "execution_count": 47,
   "id": "a0acc8ab",
   "metadata": {},
   "outputs": [],
   "source": [
    "t = t  + (7,8)"
   ]
  },
  {
   "cell_type": "code",
   "execution_count": 48,
   "id": "625cbd2b",
   "metadata": {},
   "outputs": [
    {
     "data": {
      "text/plain": [
       "(1, 2, 3, 4, 5, 6, 7, 8)"
      ]
     },
     "execution_count": 48,
     "metadata": {},
     "output_type": "execute_result"
    }
   ],
   "source": [
    "\n",
    "t"
   ]
  },
  {
   "cell_type": "code",
   "execution_count": 50,
   "id": "31c89d17",
   "metadata": {},
   "outputs": [],
   "source": [
    "#Built in Functions in tuples"
   ]
  },
  {
   "cell_type": "code",
   "execution_count": 56,
   "id": "2bce0855",
   "metadata": {},
   "outputs": [],
   "source": [
    "t = (1,2,3,3,4,5,6,6,6,6,6)"
   ]
  },
  {
   "cell_type": "code",
   "execution_count": 57,
   "id": "a84aeb7e",
   "metadata": {},
   "outputs": [
    {
     "data": {
      "text/plain": [
       "5"
      ]
     },
     "execution_count": 57,
     "metadata": {},
     "output_type": "execute_result"
    }
   ],
   "source": [
    "t.count(6)"
   ]
  },
  {
   "cell_type": "code",
   "execution_count": 59,
   "id": "a414ab47",
   "metadata": {},
   "outputs": [
    {
     "data": {
      "text/plain": [
       "6"
      ]
     },
     "execution_count": 59,
     "metadata": {},
     "output_type": "execute_result"
    }
   ],
   "source": [
    "t.index(6)"
   ]
  },
  {
   "cell_type": "code",
   "execution_count": 64,
   "id": "3a410c71",
   "metadata": {},
   "outputs": [
    {
     "data": {
      "text/plain": [
       "48"
      ]
     },
     "execution_count": 64,
     "metadata": {},
     "output_type": "execute_result"
    }
   ],
   "source": [
    "sum(t)"
   ]
  },
  {
   "cell_type": "code",
   "execution_count": 63,
   "id": "f3917c40",
   "metadata": {},
   "outputs": [
    {
     "data": {
      "text/plain": [
       "11"
      ]
     },
     "execution_count": 63,
     "metadata": {},
     "output_type": "execute_result"
    }
   ],
   "source": [
    "len(t)"
   ]
  },
  {
   "cell_type": "code",
   "execution_count": 65,
   "id": "c13ace00",
   "metadata": {},
   "outputs": [
    {
     "data": {
      "text/plain": [
       "6"
      ]
     },
     "execution_count": 65,
     "metadata": {},
     "output_type": "execute_result"
    }
   ],
   "source": [
    "max(t)"
   ]
  },
  {
   "cell_type": "code",
   "execution_count": 66,
   "id": "3c1a4d31",
   "metadata": {},
   "outputs": [
    {
     "data": {
      "text/plain": [
       "1"
      ]
     },
     "execution_count": 66,
     "metadata": {},
     "output_type": "execute_result"
    }
   ],
   "source": [
    "min(t)"
   ]
  },
  {
   "cell_type": "code",
   "execution_count": 69,
   "id": "1fceb74c",
   "metadata": {},
   "outputs": [],
   "source": [
    "t = (1,2,3,4,5) "
   ]
  },
  {
   "cell_type": "code",
   "execution_count": 70,
   "id": "375835a5",
   "metadata": {},
   "outputs": [
    {
     "data": {
      "text/plain": [
       "(1, 2, 3, 4, 5)"
      ]
     },
     "execution_count": 70,
     "metadata": {},
     "output_type": "execute_result"
    }
   ],
   "source": [
    "t"
   ]
  },
  {
   "cell_type": "code",
   "execution_count": 72,
   "id": "86fc764e",
   "metadata": {},
   "outputs": [],
   "source": [
    "new_tuple = []\n",
    "for i in t:\n",
    "    new_tuple.append(i*2)"
   ]
  },
  {
   "cell_type": "code",
   "execution_count": 73,
   "id": "77057bc5",
   "metadata": {},
   "outputs": [
    {
     "data": {
      "text/plain": [
       "[2, 4, 6, 8, 10]"
      ]
     },
     "execution_count": 73,
     "metadata": {},
     "output_type": "execute_result"
    }
   ],
   "source": [
    "new_tuple"
   ]
  },
  {
   "cell_type": "code",
   "execution_count": 75,
   "id": "89493fc2",
   "metadata": {},
   "outputs": [],
   "source": [
    "a = tuple(new_tuple)"
   ]
  },
  {
   "cell_type": "code",
   "execution_count": 76,
   "id": "6aecb4b2",
   "metadata": {},
   "outputs": [
    {
     "data": {
      "text/plain": [
       "(2, 4, 6, 8, 10)"
      ]
     },
     "execution_count": 76,
     "metadata": {},
     "output_type": "execute_result"
    }
   ],
   "source": [
    "a"
   ]
  },
  {
   "cell_type": "code",
   "execution_count": null,
   "id": "9cab616e",
   "metadata": {},
   "outputs": [],
   "source": []
  }
 ],
 "metadata": {
  "kernelspec": {
   "display_name": "Python 3 (ipykernel)",
   "language": "python",
   "name": "python3"
  },
  "language_info": {
   "codemirror_mode": {
    "name": "ipython",
    "version": 3
   },
   "file_extension": ".py",
   "mimetype": "text/x-python",
   "name": "python",
   "nbconvert_exporter": "python",
   "pygments_lexer": "ipython3",
   "version": "3.9.7"
  }
 },
 "nbformat": 4,
 "nbformat_minor": 5
}
