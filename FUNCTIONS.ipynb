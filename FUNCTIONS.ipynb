{
 "cells": [
  {
   "cell_type": "code",
   "execution_count": 2,
   "id": "a93a8a44",
   "metadata": {},
   "outputs": [
    {
     "name": "stdout",
     "output_type": "stream",
     "text": [
      "3\n"
     ]
    }
   ],
   "source": [
    "a = 1\n",
    "b =2\n",
    "c = a + b\n",
    "print(c)\n",
    "\n",
    "\n",
    "a = 3\n",
    "b =4\n",
    "c = a + b\n",
    "print(c)\n",
    "\n",
    "\n",
    "a = 6\n",
    "b =7\n",
    "c = a + 2\n",
    "print(c)\n",
    "\n",
    "a = 3\n",
    "b =5\n",
    "c = a + 2\n",
    "print(c)"
   ]
  },
  {
   "cell_type": "code",
   "execution_count": 22,
   "id": "b86f4519",
   "metadata": {},
   "outputs": [],
   "source": [
    "#Use of Functions:\n",
    "#1. Readability\n",
    "#2. Reusabliity"
   ]
  },
  {
   "cell_type": "code",
   "execution_count": 3,
   "id": "dc27ca2a",
   "metadata": {},
   "outputs": [],
   "source": [
    "def add(a,b):\n",
    "    return a+b\n",
    "\n"
   ]
  },
  {
   "cell_type": "code",
   "execution_count": 4,
   "id": "869ac5c4",
   "metadata": {},
   "outputs": [],
   "source": [
    "a = add(1,2)\n",
    "b = add(3,4)\n",
    "c = add(6,8)\n",
    "d = add(2,4)"
   ]
  },
  {
   "cell_type": "code",
   "execution_count": 20,
   "id": "6f155ec9",
   "metadata": {},
   "outputs": [],
   "source": [
    "a =3    #global scope of Variable\n",
    "def greet(name):\n",
    "    a = \"Annnnnn\" #Local scope\n",
    "    return \"Hello {}\".format(name)"
   ]
  },
  {
   "cell_type": "code",
   "execution_count": 13,
   "id": "0d7769c5",
   "metadata": {},
   "outputs": [
    {
     "data": {
      "text/plain": [
       "'Hello anil'"
      ]
     },
     "execution_count": 13,
     "metadata": {},
     "output_type": "execute_result"
    }
   ],
   "source": [
    "greet(\"anil\")"
   ]
  },
  {
   "cell_type": "code",
   "execution_count": 21,
   "id": "83728ef6",
   "metadata": {},
   "outputs": [
    {
     "data": {
      "text/plain": [
       "'Annnnn'"
      ]
     },
     "execution_count": 21,
     "metadata": {},
     "output_type": "execute_result"
    }
   ],
   "source": [
    "a"
   ]
  },
  {
   "cell_type": "code",
   "execution_count": 8,
   "id": "a13d0661",
   "metadata": {},
   "outputs": [
    {
     "data": {
      "text/plain": [
       "6"
      ]
     },
     "execution_count": 8,
     "metadata": {},
     "output_type": "execute_result"
    }
   ],
   "source": [
    "d"
   ]
  },
  {
   "cell_type": "code",
   "execution_count": 24,
   "id": "751b050c",
   "metadata": {},
   "outputs": [],
   "source": [
    "#Functions:\n",
    "#1. Built in Function\n",
    "#2. User Define function"
   ]
  },
  {
   "cell_type": "code",
   "execution_count": 25,
   "id": "ca151406",
   "metadata": {},
   "outputs": [],
   "source": [
    "#Build in function\n"
   ]
  },
  {
   "cell_type": "code",
   "execution_count": 26,
   "id": "8beaee28",
   "metadata": {},
   "outputs": [],
   "source": [
    "# 1. abs()"
   ]
  },
  {
   "cell_type": "code",
   "execution_count": 27,
   "id": "ad2a37c1",
   "metadata": {},
   "outputs": [],
   "source": [
    "a = -100"
   ]
  },
  {
   "cell_type": "code",
   "execution_count": 28,
   "id": "21c4e615",
   "metadata": {},
   "outputs": [
    {
     "data": {
      "text/plain": [
       "100"
      ]
     },
     "execution_count": 28,
     "metadata": {},
     "output_type": "execute_result"
    }
   ],
   "source": [
    "abs(a)"
   ]
  },
  {
   "cell_type": "code",
   "execution_count": 38,
   "id": "3dd56319",
   "metadata": {},
   "outputs": [],
   "source": [
    "#2. all() and any()\n",
    "import numpy as np"
   ]
  },
  {
   "cell_type": "code",
   "execution_count": 33,
   "id": "07149310",
   "metadata": {},
   "outputs": [],
   "source": [
    "a = np.array([1,2,3,4,5])\n",
    "b = np.array([1,2,3,4,6])"
   ]
  },
  {
   "cell_type": "code",
   "execution_count": 36,
   "id": "920bb05f",
   "metadata": {},
   "outputs": [
    {
     "data": {
      "text/plain": [
       "False"
      ]
     },
     "execution_count": 36,
     "metadata": {},
     "output_type": "execute_result"
    }
   ],
   "source": [
    "(a==b).all()"
   ]
  },
  {
   "cell_type": "code",
   "execution_count": 37,
   "id": "1fba2770",
   "metadata": {},
   "outputs": [
    {
     "data": {
      "text/plain": [
       "True"
      ]
     },
     "execution_count": 37,
     "metadata": {},
     "output_type": "execute_result"
    }
   ],
   "source": [
    "(a==b).any()"
   ]
  },
  {
   "cell_type": "code",
   "execution_count": 39,
   "id": "51feb6ec",
   "metadata": {},
   "outputs": [],
   "source": [
    "#3. dir()"
   ]
  },
  {
   "cell_type": "code",
   "execution_count": 40,
   "id": "4bfd2d1a",
   "metadata": {},
   "outputs": [],
   "source": [
    "l = [1,2,3,4,5]"
   ]
  },
  {
   "cell_type": "code",
   "execution_count": 41,
   "id": "6dc72dcf",
   "metadata": {},
   "outputs": [
    {
     "data": {
      "text/plain": [
       "['__add__',\n",
       " '__class__',\n",
       " '__class_getitem__',\n",
       " '__contains__',\n",
       " '__delattr__',\n",
       " '__delitem__',\n",
       " '__dir__',\n",
       " '__doc__',\n",
       " '__eq__',\n",
       " '__format__',\n",
       " '__ge__',\n",
       " '__getattribute__',\n",
       " '__getitem__',\n",
       " '__gt__',\n",
       " '__hash__',\n",
       " '__iadd__',\n",
       " '__imul__',\n",
       " '__init__',\n",
       " '__init_subclass__',\n",
       " '__iter__',\n",
       " '__le__',\n",
       " '__len__',\n",
       " '__lt__',\n",
       " '__mul__',\n",
       " '__ne__',\n",
       " '__new__',\n",
       " '__reduce__',\n",
       " '__reduce_ex__',\n",
       " '__repr__',\n",
       " '__reversed__',\n",
       " '__rmul__',\n",
       " '__setattr__',\n",
       " '__setitem__',\n",
       " '__sizeof__',\n",
       " '__str__',\n",
       " '__subclasshook__',\n",
       " 'append',\n",
       " 'clear',\n",
       " 'copy',\n",
       " 'count',\n",
       " 'extend',\n",
       " 'index',\n",
       " 'insert',\n",
       " 'pop',\n",
       " 'remove',\n",
       " 'reverse',\n",
       " 'sort']"
      ]
     },
     "execution_count": 41,
     "metadata": {},
     "output_type": "execute_result"
    }
   ],
   "source": [
    "dir(l)"
   ]
  },
  {
   "cell_type": "code",
   "execution_count": 42,
   "id": "50fc67b7",
   "metadata": {},
   "outputs": [],
   "source": [
    "#4. enumerate()"
   ]
  },
  {
   "cell_type": "code",
   "execution_count": 43,
   "id": "a89401cf",
   "metadata": {},
   "outputs": [],
   "source": [
    "l = [10,20,30,40,50]"
   ]
  },
  {
   "cell_type": "code",
   "execution_count": 45,
   "id": "c71e9846",
   "metadata": {},
   "outputs": [
    {
     "name": "stdout",
     "output_type": "stream",
     "text": [
      "0 20\n",
      "1 20\n",
      "2 20\n",
      "3 20\n",
      "4 20\n"
     ]
    }
   ],
   "source": [
    "for i in range(len(l)):\n",
    "    print(i,l[1])"
   ]
  },
  {
   "cell_type": "code",
   "execution_count": 47,
   "id": "d5f54e0d",
   "metadata": {},
   "outputs": [
    {
     "name": "stdout",
     "output_type": "stream",
     "text": [
      "0 10\n",
      "1 20\n",
      "2 30\n",
      "3 40\n",
      "4 50\n"
     ]
    }
   ],
   "source": [
    "for ind,val in enumerate(l):\n",
    "    print(ind,val)"
   ]
  },
  {
   "cell_type": "code",
   "execution_count": 48,
   "id": "490bf5ab",
   "metadata": {},
   "outputs": [],
   "source": [
    "#Map,Reduce,Filter"
   ]
  },
  {
   "cell_type": "code",
   "execution_count": 49,
   "id": "49bc626b",
   "metadata": {},
   "outputs": [],
   "source": [
    "#Filter"
   ]
  },
  {
   "cell_type": "code",
   "execution_count": 50,
   "id": "33d37742",
   "metadata": {},
   "outputs": [],
   "source": [
    "number = [1,2,3,4,5,6,7,8,9,10]"
   ]
  },
  {
   "cell_type": "code",
   "execution_count": 54,
   "id": "67cdfa3e",
   "metadata": {},
   "outputs": [],
   "source": [
    "def even(num):\n",
    "    if num%2==0:\n",
    "        return num"
   ]
  },
  {
   "cell_type": "code",
   "execution_count": 55,
   "id": "f7d6291a",
   "metadata": {},
   "outputs": [],
   "source": [
    "even_number = list(filter(even,number))"
   ]
  },
  {
   "cell_type": "code",
   "execution_count": 79,
   "id": "4d681e5f",
   "metadata": {},
   "outputs": [],
   "source": [
    "even_number = list(filter(lambda x:x%2==0,number))  #Lambda Expression"
   ]
  },
  {
   "cell_type": "code",
   "execution_count": 80,
   "id": "184eef78",
   "metadata": {},
   "outputs": [
    {
     "data": {
      "text/plain": [
       "[2, 4, 6, 8, 10]"
      ]
     },
     "execution_count": 80,
     "metadata": {},
     "output_type": "execute_result"
    }
   ],
   "source": [
    "even_number"
   ]
  },
  {
   "cell_type": "code",
   "execution_count": 77,
   "id": "2a291828",
   "metadata": {},
   "outputs": [],
   "source": [
    "#Map"
   ]
  },
  {
   "cell_type": "code",
   "execution_count": 66,
   "id": "460b471d",
   "metadata": {},
   "outputs": [],
   "source": [
    "def square(num):\n",
    "    return num**2"
   ]
  },
  {
   "cell_type": "code",
   "execution_count": 67,
   "id": "734f013f",
   "metadata": {},
   "outputs": [],
   "source": [
    "square_number = list(map(square,number))"
   ]
  },
  {
   "cell_type": "code",
   "execution_count": 81,
   "id": "78ff76e9",
   "metadata": {},
   "outputs": [],
   "source": [
    "square_number = list(map(lambda x:x**2,number))  #Lambda Expression"
   ]
  },
  {
   "cell_type": "code",
   "execution_count": 82,
   "id": "e3a01540",
   "metadata": {},
   "outputs": [
    {
     "data": {
      "text/plain": [
       "[1, 4, 9, 16, 25, 36, 49, 64, 81, 100]"
      ]
     },
     "execution_count": 82,
     "metadata": {},
     "output_type": "execute_result"
    }
   ],
   "source": [
    "square_number"
   ]
  },
  {
   "cell_type": "code",
   "execution_count": 78,
   "id": "6391036b",
   "metadata": {},
   "outputs": [],
   "source": [
    "#Reduce"
   ]
  },
  {
   "cell_type": "code",
   "execution_count": 72,
   "id": "e1a0105c",
   "metadata": {},
   "outputs": [],
   "source": [
    "from functools import reduce"
   ]
  },
  {
   "cell_type": "code",
   "execution_count": 73,
   "id": "e5eec4de",
   "metadata": {},
   "outputs": [],
   "source": [
    "def sum(num1,num2):\n",
    "    return num1+num2"
   ]
  },
  {
   "cell_type": "code",
   "execution_count": 75,
   "id": "c2e407b4",
   "metadata": {},
   "outputs": [],
   "source": [
    "sum_numbers = reduce(sum,number)"
   ]
  },
  {
   "cell_type": "code",
   "execution_count": 83,
   "id": "5fae6eb2",
   "metadata": {},
   "outputs": [],
   "source": [
    "sum_numbers = reduce(lambda x1,x2:x1+x2,number)  #Lambda Expression"
   ]
  },
  {
   "cell_type": "code",
   "execution_count": 84,
   "id": "437de23d",
   "metadata": {},
   "outputs": [
    {
     "data": {
      "text/plain": [
       "55"
      ]
     },
     "execution_count": 84,
     "metadata": {},
     "output_type": "execute_result"
    }
   ],
   "source": [
    "sum_numbers"
   ]
  },
  {
   "cell_type": "code",
   "execution_count": 94,
   "id": "43129cc0",
   "metadata": {},
   "outputs": [],
   "source": [
    "l = [1,2,3,4,3,5,6]"
   ]
  },
  {
   "cell_type": "code",
   "execution_count": 95,
   "id": "a41afd74",
   "metadata": {},
   "outputs": [],
   "source": [
    "def max_num(num1,num2):\n",
    "    if num1 > num2:\n",
    "        return num1\n",
    "    else:\n",
    "        return num2"
   ]
  },
  {
   "cell_type": "code",
   "execution_count": 96,
   "id": "e2822cb6",
   "metadata": {},
   "outputs": [],
   "source": [
    "max_number = reduce(max_num,l)"
   ]
  },
  {
   "cell_type": "code",
   "execution_count": 97,
   "id": "67eb3892",
   "metadata": {},
   "outputs": [
    {
     "data": {
      "text/plain": [
       "6"
      ]
     },
     "execution_count": 97,
     "metadata": {},
     "output_type": "execute_result"
    }
   ],
   "source": [
    "max_number"
   ]
  },
  {
   "cell_type": "code",
   "execution_count": null,
   "id": "589202cf",
   "metadata": {},
   "outputs": [],
   "source": [
    "lambda x : x*2 if x < 10 else (x*3 if x < 20 else x)"
   ]
  },
  {
   "cell_type": "code",
   "execution_count": 106,
   "id": "ae3e2c29",
   "metadata": {},
   "outputs": [],
   "source": [
    "max_number = reduce(lambda x1,x2:x1 if x1>x2 else (x2 if x1<x2 else 0),l)"
   ]
  },
  {
   "cell_type": "code",
   "execution_count": 107,
   "id": "bc59356a",
   "metadata": {},
   "outputs": [
    {
     "data": {
      "text/plain": [
       "6"
      ]
     },
     "execution_count": 107,
     "metadata": {},
     "output_type": "execute_result"
    }
   ],
   "source": [
    "max_number"
   ]
  },
  {
   "cell_type": "code",
   "execution_count": 108,
   "id": "35dbcd8f",
   "metadata": {},
   "outputs": [],
   "source": [
    "#Function Arguments"
   ]
  },
  {
   "cell_type": "code",
   "execution_count": 109,
   "id": "fe00a56f",
   "metadata": {},
   "outputs": [],
   "source": [
    "#1. Default Arg\n",
    "#2. Keyword Arg\n",
    "#3. Arbitary Arg"
   ]
  },
  {
   "cell_type": "code",
   "execution_count": 135,
   "id": "6cfcc050",
   "metadata": {},
   "outputs": [],
   "source": [
    "def greet(name,msg = \"Good Morning\"):\n",
    "    print(name,msg)"
   ]
  },
  {
   "cell_type": "code",
   "execution_count": 136,
   "id": "c35d383d",
   "metadata": {},
   "outputs": [
    {
     "ename": "TypeError",
     "evalue": "greet() takes from 1 to 2 positional arguments but 3 were given",
     "output_type": "error",
     "traceback": [
      "\u001b[1;31m---------------------------------------------------------------------------\u001b[0m",
      "\u001b[1;31mTypeError\u001b[0m                                 Traceback (most recent call last)",
      "\u001b[1;32mC:\\Users\\AN2025~1\\AppData\\Local\\Temp/ipykernel_536/1046842273.py\u001b[0m in \u001b[0;36m<module>\u001b[1;34m\u001b[0m\n\u001b[1;32m----> 1\u001b[1;33m \u001b[0mgreet\u001b[0m\u001b[1;33m(\u001b[0m\u001b[1;34m\"Anil\"\u001b[0m\u001b[1;33m,\u001b[0m\u001b[1;34m\"hfdhd\"\u001b[0m\u001b[1;33m,\u001b[0m\u001b[1;34m\"jdujd\"\u001b[0m\u001b[1;33m)\u001b[0m\u001b[1;33m\u001b[0m\u001b[1;33m\u001b[0m\u001b[0m\n\u001b[0m",
      "\u001b[1;31mTypeError\u001b[0m: greet() takes from 1 to 2 positional arguments but 3 were given"
     ]
    }
   ],
   "source": [
    "greet(\"Anil\",\"hfdhd\",\"jdujd\")"
   ]
  },
  {
   "cell_type": "code",
   "execution_count": 114,
   "id": "32371546",
   "metadata": {},
   "outputs": [
    {
     "name": "stdout",
     "output_type": "stream",
     "text": [
      "Anil How r you\n"
     ]
    }
   ],
   "source": [
    "greet(\"Anil\",\"How r you\")"
   ]
  },
  {
   "cell_type": "code",
   "execution_count": 115,
   "id": "4c8699e6",
   "metadata": {},
   "outputs": [],
   "source": [
    "#Keyword Arguments"
   ]
  },
  {
   "cell_type": "code",
   "execution_count": 128,
   "id": "83c7ce32",
   "metadata": {},
   "outputs": [],
   "source": [
    "def greet(**kwargs):\n",
    "    print(\"Hello {2}, {0},{1}\".format(kwargs['name'],kwargs['msg'],kwargs['age']))"
   ]
  },
  {
   "cell_type": "code",
   "execution_count": 129,
   "id": "176b5394",
   "metadata": {},
   "outputs": [
    {
     "name": "stdout",
     "output_type": "stream",
     "text": [
      "Hello 2, Anil,Hello\n"
     ]
    }
   ],
   "source": [
    "greet(name=\"Anil\",msg=\"Hello\",age=2)"
   ]
  },
  {
   "cell_type": "code",
   "execution_count": 130,
   "id": "7d7072a3",
   "metadata": {},
   "outputs": [],
   "source": [
    "#Arbitary Arguments"
   ]
  },
  {
   "cell_type": "code",
   "execution_count": 138,
   "id": "9a4f9384",
   "metadata": {},
   "outputs": [],
   "source": [
    "def greet(*names):\n",
    "    for name in names:\n",
    "        print(\"Hello \",name)\n",
    "    "
   ]
  },
  {
   "cell_type": "code",
   "execution_count": 139,
   "id": "991b35ee",
   "metadata": {},
   "outputs": [
    {
     "name": "stdout",
     "output_type": "stream",
     "text": [
      "Hello  Anil\n",
      "Hello  Anu\n",
      "Hello  Suraj\n",
      "Hello  snha\n"
     ]
    }
   ],
   "source": [
    "greet('Anil','Anu','Suraj',\"snha\")"
   ]
  },
  {
   "cell_type": "code",
   "execution_count": 149,
   "id": "d4c321d9",
   "metadata": {},
   "outputs": [],
   "source": [
    "def greet(msg=\"Hello\",*name,**kwargs):\n",
    "    print(msg,name,kwargs['id'])"
   ]
  },
  {
   "cell_type": "code",
   "execution_count": 148,
   "id": "10e55e46",
   "metadata": {},
   "outputs": [
    {
     "name": "stdout",
     "output_type": "stream",
     "text": [
      "Hello ('Anil', 'Anu', 'suraj') 20\n"
     ]
    }
   ],
   "source": [
    "greet(\"Hello\",\"Anil\",\"Anu\",\"suraj\",id=20)"
   ]
  },
  {
   "cell_type": "code",
   "execution_count": null,
   "id": "faa6a7b0",
   "metadata": {},
   "outputs": [],
   "source": []
  }
 ],
 "metadata": {
  "kernelspec": {
   "display_name": "Python 3 (ipykernel)",
   "language": "python",
   "name": "python3"
  },
  "language_info": {
   "codemirror_mode": {
    "name": "ipython",
    "version": 3
   },
   "file_extension": ".py",
   "mimetype": "text/x-python",
   "name": "python",
   "nbconvert_exporter": "python",
   "pygments_lexer": "ipython3",
   "version": "3.9.7"
  }
 },
 "nbformat": 4,
 "nbformat_minor": 5
}
