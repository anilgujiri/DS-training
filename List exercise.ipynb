{
 "cells": [
  {
   "cell_type": "code",
   "execution_count": 16,
   "id": "ad2484ca",
   "metadata": {},
   "outputs": [],
   "source": [
    "#1. Take 10 integer inputs from user and store them in a list and print them on screen."
   ]
  },
  {
   "cell_type": "code",
   "execution_count": 2,
   "id": "54e1fa2f",
   "metadata": {},
   "outputs": [
    {
     "name": "stdout",
     "output_type": "stream",
     "text": [
      "Enter number\n",
      "1\n",
      "Enter number\n",
      "2\n",
      "Enter number\n",
      "3\n",
      "Enter number\n",
      "4\n",
      "Enter number\n",
      "5\n",
      "Enter number\n",
      "6\n",
      "Enter number\n",
      "7\n",
      "Enter number\n",
      "8\n",
      "Enter number\n",
      "9\n",
      "Enter number\n",
      "0\n",
      "[1, 2, 3, 4, 5, 6, 7, 8, 9, 0]\n"
     ]
    }
   ],
   "source": [
    "a = []\n",
    "for i in range(10):\n",
    "    a.append(int(input(\"Enter number\\n\")))\n",
    "print(a)"
   ]
  },
  {
   "cell_type": "code",
   "execution_count": 14,
   "id": "81b60833",
   "metadata": {},
   "outputs": [],
   "source": [
    "#2.Take 10 integer inputs from user and store them in a list. Again ask user to give a number. Now, tell user whether that number is present in list or not."
   ]
  },
  {
   "cell_type": "code",
   "execution_count": 3,
   "id": "f7e3b850",
   "metadata": {},
   "outputs": [
    {
     "name": "stdout",
     "output_type": "stream",
     "text": [
      "Enter number\n",
      "1\n",
      "Enter number\n",
      "2\n",
      "Enter number\n",
      "3\n",
      "Enter number\n",
      "4\n",
      "Enter number\n",
      "5\n",
      "Enter number\n",
      "6\n",
      "Enter number\n",
      "7\n",
      "Enter number\n",
      "8\n",
      "Enter number\n",
      "9\n",
      "Enter number\n",
      "9\n",
      "Second number12\n",
      "False\n"
     ]
    }
   ],
   "source": [
    "a = []\n",
    "for i in range(10):\n",
    "    a.append(int(input(\"Enter number\\n\")))\n",
    "\n",
    "b = int(input(\"Second number\"))\n",
    "if b in a:\n",
    "    print(True)\n",
    "else:\n",
    "    print(False)"
   ]
  },
  {
   "cell_type": "markdown",
   "id": "921247ec",
   "metadata": {},
   "source": []
  },
  {
   "cell_type": "code",
   "execution_count": null,
   "id": "bbff8b9a",
   "metadata": {},
   "outputs": [],
   "source": [
    "#3. Take 20 integer inputs from user and print the following:"
   ]
  },
  {
   "cell_type": "code",
   "execution_count": 8,
   "id": "e1eff29d",
   "metadata": {},
   "outputs": [
    {
     "name": "stdout",
     "output_type": "stream",
     "text": [
      "Postive Number count : 13\n",
      "Negative Number count : 5\n",
      "Zero Number count : 2\n",
      "Even Number count : 9\n",
      "Odd Number count : 11\n"
     ]
    }
   ],
   "source": [
    "#3.1 - number of positive numbers, number of negative number,number of zeros\n",
    "a = [-1,-2,-3,1,2,3,4,5,6,7,8,9,0,12,13,-43,-19,18,19,0]\n",
    "count_positive = 0\n",
    "count_negative = 0\n",
    "count_even = 0\n",
    "count_odd = 0\n",
    "count_zero = 0\n",
    "for i in a:\n",
    "    if i > 0:\n",
    "        count_positive += 1 #Postive Number\n",
    "    elif i < 0 :\n",
    "        count_negative += 1 #negative number\n",
    "    else:\n",
    "        count_zero += 1 #count of zeros\n",
    "\n",
    "for i in a:\n",
    "    if i%2 == 0:\n",
    "        count_even += 1 #Even numer\n",
    "    else:\n",
    "        count_odd += 1 #Odd number\n",
    "\n",
    "print(\"Postive Number count :\",count_positive)\n",
    "print(\"Negative Number count :\",count_negative)\n",
    "print(\"Zero Number count :\",count_zero)\n",
    "print(\"Even Number count :\",count_even)\n",
    "print(\"Odd Number count :\",count_odd)"
   ]
  },
  {
   "cell_type": "code",
   "execution_count": 18,
   "id": "8ce3e74e",
   "metadata": {},
   "outputs": [
    {
     "name": "stdout",
     "output_type": "stream",
     "text": [
      "Enter number\n",
      "1\n",
      "Enter number\n",
      "2\n",
      "Enter number\n",
      "3\n",
      "Enter number\n",
      "4\n",
      "Enter number\n",
      "5\n",
      "Enter number\n",
      "6\n",
      "Enter number\n",
      "7\n",
      "Enter number\n",
      "8\n",
      "Enter number\n",
      "9\n",
      "Enter number\n",
      "0\n",
      "Original List [1, 2, 3, 4, 5, 6, 7, 8, 9, 0]\n",
      "Reverse list [0, 9, 8, 7, 6, 5, 4, 3, 2, 1]\n"
     ]
    }
   ],
   "source": [
    "#4. Take 10 integer inputs from user and store them in a list. Now, copy all the elements in another list but in reverse order.\n",
    "a = []\n",
    "for i in range(10):\n",
    "    a.append(int(input(\"Enter number\\n\")))\n",
    "print(\"Original List\",a)\n",
    "a.reverse()\n",
    "b = a\n",
    "print(\"Reverse list\",b)"
   ]
  },
  {
   "cell_type": "code",
   "execution_count": 12,
   "id": "e7f35559",
   "metadata": {},
   "outputs": [
    {
     "name": "stdout",
     "output_type": "stream",
     "text": [
      "39\n"
     ]
    }
   ],
   "source": [
    "#5. Write a program to find the sum of all elements of a list.\n",
    "a = [-1,-2,-3,1,2,3,4,5,6,7,8,9,0,12,13,-43,-19,18,19,0]\n",
    "total = 0\n",
    "for i in a:\n",
    "    total = total + i\n",
    "print(total)"
   ]
  },
  {
   "cell_type": "code",
   "execution_count": 14,
   "id": "01de5c47",
   "metadata": {},
   "outputs": [
    {
     "name": "stdout",
     "output_type": "stream",
     "text": [
      "-94904552171520\n"
     ]
    }
   ],
   "source": [
    "#6. Write a program to find the product of all elements of a list.\n",
    "a = [-1,-2,-3,1,2,3,4,5,6,7,8,9,12,13,-43,-19,18,19]\n",
    "product = 1\n",
    "for i in a:\n",
    "    product = product * i\n",
    "print(product)"
   ]
  },
  {
   "cell_type": "code",
   "execution_count": 20,
   "id": "52b5ff0c",
   "metadata": {},
   "outputs": [
    {
     "name": "stdout",
     "output_type": "stream",
     "text": [
      "Samllest number  -43\n",
      "Largest number  19\n"
     ]
    }
   ],
   "source": [
    "#7. Find largest and smallest elements of a list.\n",
    "a = [-1,-2,-3,1,2,3,4,5,6,7,8,9,0,12,13,-43,-19,18,19,0]\n",
    "a.sort()\n",
    "print(\"Samllest number \",a[0])\n",
    "print(\"Largest number \",a[-1])"
   ]
  },
  {
   "cell_type": "code",
   "execution_count": 21,
   "id": "0f745c0b",
   "metadata": {},
   "outputs": [
    {
     "name": "stdout",
     "output_type": "stream",
     "text": [
      "Average of all numbers :  1.95\n"
     ]
    }
   ],
   "source": [
    "#8. Write a program to print sum, average of all numbers, smallest and largest element of a list.\n",
    "#Sum,smallest , Largest are already done above. Here I will do the mean\n",
    "a = [-1,-2,-3,1,2,3,4,5,6,7,8,9,0,12,13,-43,-19,18,19,0]\n",
    "total = 0\n",
    "for i in a:\n",
    "    total = total + i\n",
    "print(\"Average of all numbers : \",total/len(a))"
   ]
  },
  {
   "cell_type": "code",
   "execution_count": 24,
   "id": "5c44d77a",
   "metadata": {},
   "outputs": [
    {
     "name": "stdout",
     "output_type": "stream",
     "text": [
      "[0, 1, 2, 3, 4, 5, 6, 7, 8, 9, 12, 13, 18, 19, -43, -19, -1, -3, -2]\n"
     ]
    }
   ],
   "source": [
    "#9 Make a list by taking 10 input from user. Now delete all repeated elements of the list.\n",
    "a = [-1,-2,-3,1,2,3,4,5,6,7,8,9,0,12,13,-43,-19,18,19,0,2,3,4,5,7,8]\n",
    "b = set(a)\n",
    "a = list(b)\n",
    "print(a)"
   ]
  },
  {
   "cell_type": "markdown",
   "id": "398f20b7",
   "metadata": {},
   "source": []
  },
  {
   "cell_type": "code",
   "execution_count": 35,
   "id": "89aadc6f",
   "metadata": {},
   "outputs": [
    {
     "name": "stdout",
     "output_type": "stream",
     "text": [
      "[-1, -2, -3, 1, 2, 3, 4, 5, 6, 7, 8, 9, 0, 12]\n",
      "[13, -43, -19, 18, 19, 0, 2, 3, 4, 5, 7, 8, 0]\n"
     ]
    }
   ],
   "source": [
    "#10. Take a list of 10 elements. Split it into middle and store the elements in two dfferent lists. \n",
    "a = [-1,-2,-3,1,2,3,4,5,6,7,8,9,0,12,13,-43,-19,18,19,0,2,3,4,5,7,8,0]\n",
    "length = len(a)\n",
    "a1 = a[0:int(length/2)+1]\n",
    "a2 = a[int(length/2)+1:]\n",
    "print(a1)\n",
    "print(a2)"
   ]
  },
  {
   "cell_type": "code",
   "execution_count": null,
   "id": "14b692af",
   "metadata": {},
   "outputs": [],
   "source": []
  }
 ],
 "metadata": {
  "kernelspec": {
   "display_name": "Python 3 (ipykernel)",
   "language": "python",
   "name": "python3"
  },
  "language_info": {
   "codemirror_mode": {
    "name": "ipython",
    "version": 3
   },
   "file_extension": ".py",
   "mimetype": "text/x-python",
   "name": "python",
   "nbconvert_exporter": "python",
   "pygments_lexer": "ipython3",
   "version": "3.9.7"
  }
 },
 "nbformat": 4,
 "nbformat_minor": 5
}
